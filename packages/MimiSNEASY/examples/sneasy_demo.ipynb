{
 "cells": [
  {
   "cell_type": "markdown",
   "metadata": {},
   "source": [
    "# SNEASY"
   ]
  },
  {
   "cell_type": "markdown",
   "metadata": {},
   "source": [
    "This runs the SNEASY model and plots some variables."
   ]
  },
  {
   "cell_type": "markdown",
   "metadata": {},
   "source": [
    "## Dependencies"
   ]
  },
  {
   "cell_type": "markdown",
   "metadata": {},
   "source": [
    "Load dependencies"
   ]
  },
  {
   "cell_type": "code",
   "execution_count": null,
   "metadata": {
    "collapsed": false
   },
   "outputs": [],
   "source": [
    "using Mimi\n",
    "using Gadfly"
   ]
  },
  {
   "cell_type": "code",
   "execution_count": null,
   "metadata": {
    "collapsed": false
   },
   "outputs": [],
   "source": [
    "include(\"../src/doeclim.jl\")\n",
    "include(\"../src/ccm.jl\")\n",
    "include(\"../src/radforc.jl\")"
   ]
  },
  {
   "cell_type": "markdown",
   "metadata": {},
   "source": [
    "## Read and prep data from files"
   ]
  },
  {
   "cell_type": "code",
   "execution_count": null,
   "metadata": {
    "collapsed": false
   },
   "outputs": [],
   "source": [
    "f_anomtable = readdlm(\"../data/anomtable.txt\")\n",
    "f_emissions = readdlm(\"../data/emis_data_sep09.txt\")\n",
    "f_nonco2forcing = readdlm(\"../data/non_CO2_forcing.txt\")\n",
    "\n",
    "CO2_emissions = vec(f_emissions[:,2])\n",
    "other_forcing = vec(f_nonco2forcing[:,2])\n",
    "anomtable = zeros(100, 16000)\n",
    "for i=1:16000\n",
    "    anomtable[:,i] = f_anomtable[i,:]\n",
    "end"
   ]
  },
  {
   "cell_type": "markdown",
   "metadata": {},
   "source": [
    "## Create model"
   ]
  },
  {
   "cell_type": "markdown",
   "metadata": {},
   "source": [
    "Create the model object and set the number of timesteps."
   ]
  },
  {
   "cell_type": "code",
   "execution_count": null,
   "metadata": {
    "collapsed": false
   },
   "outputs": [],
   "source": [
    "m = Model()\n",
    "\n",
    "setindex(m, :time, 566)"
   ]
  },
  {
   "cell_type": "markdown",
   "metadata": {},
   "source": [
    "Add components to model"
   ]
  },
  {
   "cell_type": "code",
   "execution_count": null,
   "metadata": {
    "collapsed": false
   },
   "outputs": [],
   "source": [
    "addcomponent(m, radforccomponent.radforc)\n",
    "addcomponent(m, doeclimcomponent.doeclim)\n",
    "addcomponent(m, ccmcomponent.ccm)    "
   ]
  },
  {
   "cell_type": "markdown",
   "metadata": {},
   "source": [
    "Set parameters"
   ]
  },
  {
   "cell_type": "code",
   "execution_count": null,
   "metadata": {
    "collapsed": false
   },
   "outputs": [],
   "source": [
    "setparameter(m, :doeclim, :t2co, 2.0)\n",
    "setparameter(m, :doeclim, :kappa, 1.1)\n",
    "setparameter(m, :doeclim, :deltat, 1.0)\n",
    "    \n",
    "setparameter(m, :ccm, :deltat, 1.0)\n",
    "setparameter(m, :ccm, :Q10, 1.311)\n",
    "setparameter(m, :ccm, :Beta, 0.502)\n",
    "setparameter(m, :ccm, :Eta, 17.722)\n",
    "setparameter(m, :ccm, :CO2_emissions, CO2_emissions)\n",
    "setparameter(m, :ccm, :anomtable, anomtable)\n",
    "    \n",
    "setparameter(m, :radforc, :other_forcing, other_forcing)\n",
    "setparameter(m, :radforc, :deltat, 1.0)"
   ]
  },
  {
   "cell_type": "markdown",
   "metadata": {},
   "source": [
    "Connect components"
   ]
  },
  {
   "cell_type": "code",
   "execution_count": null,
   "metadata": {
    "collapsed": false
   },
   "outputs": [],
   "source": [
    "connectparameter(m, :doeclim, :forcing, :radforc, :rf)\n",
    "connectparameter(m, :ccm, :temp, :doeclim, :temp)\n",
    "connectparameter(m, :radforc, :atmco2, :ccm, :atmco2)"
   ]
  },
  {
   "cell_type": "markdown",
   "metadata": {},
   "source": [
    "## Run model"
   ]
  },
  {
   "cell_type": "code",
   "execution_count": null,
   "metadata": {
    "collapsed": false
   },
   "outputs": [],
   "source": [
    "run(m)"
   ]
  },
  {
   "cell_type": "markdown",
   "metadata": {},
   "source": [
    "## Plot results"
   ]
  },
  {
   "cell_type": "code",
   "execution_count": null,
   "metadata": {
    "collapsed": true
   },
   "outputs": [],
   "source": [
    "set_default_plot_size(20cm, 15cm)"
   ]
  },
  {
   "cell_type": "code",
   "execution_count": null,
   "metadata": {
    "collapsed": false
   },
   "outputs": [],
   "source": [
    "plot(\n",
    "getdataframe(m, :doeclim, :temp), \n",
    "x=\"time\", \n",
    "y=\"temp\", \n",
    "Geom.line, \n",
    "Guide.xlabel(\"year\"), \n",
    "Guide.ylabel(\"°C\"), \n",
    "Guide.title(\"temperature\")\n",
    ")"
   ]
  },
  {
   "cell_type": "code",
   "execution_count": null,
   "metadata": {
    "collapsed": false
   },
   "outputs": [],
   "source": [
    "plot(\n",
    "getdataframe(m, :radforc, :rf), \n",
    "x=\"time\", \n",
    "y=\"rf\", \n",
    "Geom.line, \n",
    "Guide.xlabel(\"year\"), \n",
    "Guide.ylabel(\"W/m^2\"), \n",
    "Guide.title(\"radiative forcing\")\n",
    ")"
   ]
  },
  {
   "cell_type": "code",
   "execution_count": null,
   "metadata": {
    "collapsed": false
   },
   "outputs": [],
   "source": [
    "plot(\n",
    "getdataframe(m, :ccm, :atmco2), \n",
    "x=\"time\", \n",
    "y=\"atmco2\", \n",
    "Geom.line, \n",
    "Guide.xlabel(\"year\"), \n",
    "Guide.ylabel(\"ppm\"), \n",
    "Guide.title(\"CO2 concentrations\")\n",
    ")"
   ]
  }
 ],
 "metadata": {
  "kernelspec": {
   "display_name": "Julia 0.4.3",
   "language": "julia",
   "name": "julia-0.4"
  },
  "language_info": {
   "name": "julia",
   "version": "0.3.11"
  }
 },
 "nbformat": 4,
 "nbformat_minor": 0
}
